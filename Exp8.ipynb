{
 "cells": [
  {
   "cell_type": "markdown",
   "id": "6716555d",
   "metadata": {},
   "source": [
    "# Normalization of heart.csv"
   ]
  },
  {
   "cell_type": "code",
   "execution_count": 4,
   "id": "7eaa6292",
   "metadata": {},
   "outputs": [
    {
     "name": "stdout",
     "output_type": "stream",
     "text": [
      "     age  sex  cp  trestbps  chol  fbs  restecg  thalach  exang  oldpeak  \\\n",
      "0     63    1   3       145   233    1        0      150      0      2.3   \n",
      "1     37    1   2       130   250    0        1      187      0      3.5   \n",
      "2     41    0   1       130   204    0        0      172      0      1.4   \n",
      "3     56    1   1       120   236    0        1      178      0      0.8   \n",
      "4     57    0   0       120   354    0        1      163      1      0.6   \n",
      "..   ...  ...  ..       ...   ...  ...      ...      ...    ...      ...   \n",
      "298   57    0   0       140   241    0        1      123      1      0.2   \n",
      "299   45    1   3       110   264    0        1      132      0      1.2   \n",
      "300   68    1   0       144   193    1        1      141      0      3.4   \n",
      "301   57    1   0       130   131    0        1      115      1      1.2   \n",
      "302   57    0   1       130   236    0        0      174      0      0.0   \n",
      "\n",
      "     slope  ca  thal  target  \n",
      "0        0   0     1       1  \n",
      "1        0   0     2       1  \n",
      "2        2   0     2       1  \n",
      "3        2   0     2       1  \n",
      "4        2   0     2       1  \n",
      "..     ...  ..   ...     ...  \n",
      "298      1   0     3       0  \n",
      "299      1   0     3       0  \n",
      "300      1   2     3       0  \n",
      "301      1   1     3       0  \n",
      "302      1   1     2       0  \n",
      "\n",
      "[303 rows x 14 columns]\n"
     ]
    }
   ],
   "source": [
    "data = pd.read_csv(\"heart.csv\")\n",
    "print(data)"
   ]
  },
  {
   "cell_type": "code",
   "execution_count": 3,
   "id": "eb11b028",
   "metadata": {},
   "outputs": [
    {
     "name": "stdout",
     "output_type": "stream",
     "text": [
      "          age  sex        cp  trestbps      chol  fbs  restecg   thalach  \\\n",
      "0    0.708333  1.0  1.000000  0.481132  0.244292  1.0      0.0  0.603053   \n",
      "1    0.166667  1.0  0.666667  0.339623  0.283105  0.0      0.5  0.885496   \n",
      "2    0.250000  0.0  0.333333  0.339623  0.178082  0.0      0.0  0.770992   \n",
      "3    0.562500  1.0  0.333333  0.245283  0.251142  0.0      0.5  0.816794   \n",
      "4    0.583333  0.0  0.000000  0.245283  0.520548  0.0      0.5  0.702290   \n",
      "..        ...  ...       ...       ...       ...  ...      ...       ...   \n",
      "298  0.583333  0.0  0.000000  0.433962  0.262557  0.0      0.5  0.396947   \n",
      "299  0.333333  1.0  1.000000  0.150943  0.315068  0.0      0.5  0.465649   \n",
      "300  0.812500  1.0  0.000000  0.471698  0.152968  1.0      0.5  0.534351   \n",
      "301  0.583333  1.0  0.000000  0.339623  0.011416  0.0      0.5  0.335878   \n",
      "302  0.583333  0.0  0.333333  0.339623  0.251142  0.0      0.0  0.786260   \n",
      "\n",
      "     exang   oldpeak  slope    ca      thal  target  \n",
      "0      0.0  0.370968    0.0  0.00  0.333333     1.0  \n",
      "1      0.0  0.564516    0.0  0.00  0.666667     1.0  \n",
      "2      0.0  0.225806    1.0  0.00  0.666667     1.0  \n",
      "3      0.0  0.129032    1.0  0.00  0.666667     1.0  \n",
      "4      1.0  0.096774    1.0  0.00  0.666667     1.0  \n",
      "..     ...       ...    ...   ...       ...     ...  \n",
      "298    1.0  0.032258    0.5  0.00  1.000000     0.0  \n",
      "299    0.0  0.193548    0.5  0.00  1.000000     0.0  \n",
      "300    0.0  0.548387    0.5  0.50  1.000000     0.0  \n",
      "301    1.0  0.193548    0.5  0.25  1.000000     0.0  \n",
      "302    0.0  0.000000    0.5  0.25  0.666667     0.0  \n",
      "\n",
      "[303 rows x 14 columns]\n"
     ]
    }
   ],
   "source": [
    "import pandas as pd\n",
    "import os\n",
    "from sklearn.preprocessing import MinMaxScaler\n",
    "\n",
    " \n",
    "data = pd.read_csv(\"heart.csv\") # dataset\n",
    "scaler = MinMaxScaler()\n",
    " \n",
    "sex=pd.DataFrame(scaler.fit_transform(data),\n",
    "            columns=data.columns, index=data.index) \n",
    "print(sex)"
   ]
  },
  {
   "cell_type": "markdown",
   "id": "ef949f25",
   "metadata": {},
   "source": [
    "# Standardize of  heart.csv"
   ]
  },
  {
   "cell_type": "code",
   "execution_count": 13,
   "id": "84020045",
   "metadata": {},
   "outputs": [
    {
     "name": "stdout",
     "output_type": "stream",
     "text": [
      "[[ 0.9521966   0.68100522  1.97312292 ... -0.71442887 -2.14887271\n",
      "   0.91452919]\n",
      " [-1.91531289  0.68100522  1.00257707 ... -0.71442887 -0.51292188\n",
      "   0.91452919]\n",
      " [-1.47415758 -1.46841752  0.03203122 ... -0.71442887 -0.51292188\n",
      "   0.91452919]\n",
      " ...\n",
      " [ 1.50364073  0.68100522 -0.93851463 ...  1.24459328  1.12302895\n",
      "  -1.09345881]\n",
      " [ 0.29046364  0.68100522 -0.93851463 ...  0.26508221  1.12302895\n",
      "  -1.09345881]\n",
      " [ 0.29046364 -1.46841752  0.03203122 ...  0.26508221 -0.51292188\n",
      "  -1.09345881]]\n"
     ]
    }
   ],
   "source": [
    "import pandas as pd\n",
    "from sklearn.preprocessing import StandardScaler\n",
    "\n",
    "df = pd.read_csv(\"heart.csv\")\n",
    "scaler = StandardScaler()\n",
    "standardized_data = scaler.fit_transform(df)\n",
    "\n",
    "print(standardized_data)"
   ]
  }
 ],
 "metadata": {
  "kernelspec": {
   "display_name": "Python 3 (ipykernel)",
   "language": "python",
   "name": "python3"
  },
  "language_info": {
   "codemirror_mode": {
    "name": "ipython",
    "version": 3
   },
   "file_extension": ".py",
   "mimetype": "text/x-python",
   "name": "python",
   "nbconvert_exporter": "python",
   "pygments_lexer": "ipython3",
   "version": "3.9.12"
  }
 },
 "nbformat": 4,
 "nbformat_minor": 5
}
