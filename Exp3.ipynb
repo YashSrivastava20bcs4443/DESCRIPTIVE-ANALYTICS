{
 "cells": [
  {
   "cell_type": "code",
   "execution_count": 11,
   "id": "4292ffa4",
   "metadata": {},
   "outputs": [
    {
     "data": {
      "text/html": [
       "<div>\n",
       "<style scoped>\n",
       "    .dataframe tbody tr th:only-of-type {\n",
       "        vertical-align: middle;\n",
       "    }\n",
       "\n",
       "    .dataframe tbody tr th {\n",
       "        vertical-align: top;\n",
       "    }\n",
       "\n",
       "    .dataframe thead th {\n",
       "        text-align: right;\n",
       "    }\n",
       "</style>\n",
       "<table border=\"1\" class=\"dataframe\">\n",
       "  <thead>\n",
       "    <tr style=\"text-align: right;\">\n",
       "      <th></th>\n",
       "      <th>Name</th>\n",
       "      <th>marks</th>\n",
       "    </tr>\n",
       "  </thead>\n",
       "  <tbody>\n",
       "    <tr>\n",
       "      <th>Rank1</th>\n",
       "      <td>Yash</td>\n",
       "      <td>99</td>\n",
       "    </tr>\n",
       "    <tr>\n",
       "      <th>Rank2</th>\n",
       "      <td>Khwahish</td>\n",
       "      <td>98</td>\n",
       "    </tr>\n",
       "    <tr>\n",
       "      <th>Rank3</th>\n",
       "      <td>Yogesh</td>\n",
       "      <td>95</td>\n",
       "    </tr>\n",
       "    <tr>\n",
       "      <th>Rank4</th>\n",
       "      <td>Sweta</td>\n",
       "      <td>90</td>\n",
       "    </tr>\n",
       "  </tbody>\n",
       "</table>\n",
       "</div>"
      ],
      "text/plain": [
       "           Name  marks\n",
       "Rank1      Yash     99\n",
       "Rank2  Khwahish     98\n",
       "Rank3    Yogesh     95\n",
       "Rank4     Sweta     90"
      ]
     },
     "execution_count": 11,
     "metadata": {},
     "output_type": "execute_result"
    }
   ],
   "source": [
    "import pandas as pd\n",
    "import numpy as np\n",
    "import math\n",
    "  \n",
    "data = {'Name': ['Yash', 'Khwahish', 'Yogesh', 'Sweta'],\n",
    "        'marks': [99, 98, 95, 90]}\n",
    "data = pd.DataFrame(data, index=['Rank1',\n",
    "                               'Rank2',\n",
    "                               'Rank3',\n",
    "                               'Rank4'])\n",
    "data"
   ]
  },
  {
   "cell_type": "code",
   "execution_count": 2,
   "id": "288fdeb8",
   "metadata": {},
   "outputs": [],
   "source": [
    "def find_mean(list_of_numbers):\n",
    "     sum_n = sum(list_of_numbers)\n",
    "     len_n = len(list_of_numbers)\n",
    "     mean = sum_n/len_n\n",
    "     return mean"
   ]
  },
  {
   "cell_type": "code",
   "execution_count": 3,
   "id": "750005d8",
   "metadata": {},
   "outputs": [
    {
     "data": {
      "text/plain": [
       "95.5"
      ]
     },
     "execution_count": 3,
     "metadata": {},
     "output_type": "execute_result"
    }
   ],
   "source": [
    "find_mean(data.marks)"
   ]
  },
  {
   "cell_type": "code",
   "execution_count": 4,
   "id": "347e7cc7",
   "metadata": {},
   "outputs": [],
   "source": [
    "def median(sample):\n",
    "    sample.sort()\n",
    "    length= len(sample)\n",
    "    if(length/2==0):\n",
    "        return (sample[length//2]+sample[length//2 + 1])/2\n",
    "    else:\n",
    "        return sample[(length+1)//2]"
   ]
  },
  {
   "cell_type": "code",
   "execution_count": 5,
   "id": "010af6a2",
   "metadata": {},
   "outputs": [
    {
     "data": {
      "text/plain": [
       "98"
      ]
     },
     "execution_count": 5,
     "metadata": {},
     "output_type": "execute_result"
    }
   ],
   "source": [
    "median(list(data.marks))"
   ]
  },
  {
   "cell_type": "code",
   "execution_count": 9,
   "id": "5e3bf660",
   "metadata": {},
   "outputs": [],
   "source": [
    "def mode(list_of_numbers):\n",
    "    counter = {}\n",
    "    for i in list_of_numbers:\n",
    "        if i in counter:\n",
    "            counter[i]+=1\n",
    "        else:\n",
    "            counter[i] = 1\n",
    "    key_max = sorted(counter, key=counter.get, reverse=True)[:1][0]\n",
    "    frequency = counter[key_max]\n",
    "    return key_max, frequency"
   ]
  },
  {
   "cell_type": "code",
   "execution_count": 10,
   "id": "d8167ee4",
   "metadata": {},
   "outputs": [
    {
     "data": {
      "text/plain": [
       "(99, 1)"
      ]
     },
     "execution_count": 10,
     "metadata": {},
     "output_type": "execute_result"
    }
   ],
   "source": [
    "mode(data.marks)"
   ]
  },
  {
   "cell_type": "code",
   "execution_count": 12,
   "id": "5743ca64",
   "metadata": {},
   "outputs": [],
   "source": [
    "def variance(data):\n",
    "        n = len(data)\n",
    "        mean = sum(data) / n\n",
    "        deviations = [(x - mean) ** 2 for x in data]\n",
    "        variance = sum(deviations) / n\n",
    "        return variance"
   ]
  },
  {
   "cell_type": "code",
   "execution_count": 13,
   "id": "dd6f6fdd",
   "metadata": {},
   "outputs": [
    {
     "data": {
      "text/plain": [
       "12.25"
      ]
     },
     "execution_count": 13,
     "metadata": {},
     "output_type": "execute_result"
    }
   ],
   "source": [
    "variance(data.marks)"
   ]
  },
  {
   "cell_type": "code",
   "execution_count": 14,
   "id": "16c71a2b",
   "metadata": {},
   "outputs": [],
   "source": [
    "def stdev(data):\n",
    "       var = variance(data)\n",
    "       std_dev = math.sqrt(var)\n",
    "       return std_dev"
   ]
  },
  {
   "cell_type": "code",
   "execution_count": 15,
   "id": "4b777cbb",
   "metadata": {},
   "outputs": [
    {
     "data": {
      "text/plain": [
       "3.5"
      ]
     },
     "execution_count": 15,
     "metadata": {},
     "output_type": "execute_result"
    }
   ],
   "source": [
    "stdev(data.marks)"
   ]
  }
 ],
 "metadata": {
  "kernelspec": {
   "display_name": "Python 3 (ipykernel)",
   "language": "python",
   "name": "python3"
  },
  "language_info": {
   "codemirror_mode": {
    "name": "ipython",
    "version": 3
   },
   "file_extension": ".py",
   "mimetype": "text/x-python",
   "name": "python",
   "nbconvert_exporter": "python",
   "pygments_lexer": "ipython3",
   "version": "3.10.5"
  }
 },
 "nbformat": 4,
 "nbformat_minor": 5
}
