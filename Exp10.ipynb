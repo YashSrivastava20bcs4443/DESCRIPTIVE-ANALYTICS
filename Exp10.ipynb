{
 "cells": [
  {
   "cell_type": "markdown",
   "id": "ec70ccfc",
   "metadata": {},
   "source": [
    "# Regular Expressions & Python"
   ]
  },
  {
   "cell_type": "code",
   "execution_count": 6,
   "id": "741f3e64",
   "metadata": {},
   "outputs": [
    {
     "name": "stdout",
     "output_type": "stream",
     "text": [
      "replaced = IPs : 127.0.0.1 or 127.0.0.1\n"
     ]
    }
   ],
   "source": [
    "import re\n",
    "pattern = re.compile(r'\\b(?:[0-9]{1,3}\\.){3}[0-9]{1,3}\\b')\n",
    "old = 'IPs : 173.254.28.78 or 167.81.178.97'\n",
    "\n",
    "new_ip = '127.0.0.1'\n",
    "\n",
    "replaced = re.sub(pattern, new_ip, old)\n",
    "\n",
    "print('replaced = %s' %(replaced))"
   ]
  },
  {
   "cell_type": "markdown",
   "id": "c3968cfc",
   "metadata": {},
   "source": [
    "# Pluralizing Nouns with Regular Expressions"
   ]
  },
  {
   "cell_type": "code",
   "execution_count": 12,
   "id": "9895a4bc",
   "metadata": {},
   "outputs": [
    {
     "data": {
      "text/plain": [
       "<re.Match object; span=(2, 3), match='a'>"
      ]
     },
     "execution_count": 12,
     "metadata": {},
     "output_type": "execute_result"
    }
   ],
   "source": [
    "import re\n",
    "re.search('[abc]', 'Space')"
   ]
  },
  {
   "cell_type": "code",
   "execution_count": 13,
   "id": "d1c16fee",
   "metadata": {},
   "outputs": [
    {
     "data": {
      "text/plain": [
       "'Spooe'"
      ]
     },
     "execution_count": 13,
     "metadata": {},
     "output_type": "execute_result"
    }
   ],
   "source": [
    "re.sub('[abc]', 'o', 'Space')"
   ]
  },
  {
   "cell_type": "code",
   "execution_count": 14,
   "id": "d98b3176",
   "metadata": {},
   "outputs": [
    {
     "data": {
      "text/plain": [
       "'Spoon'"
      ]
     },
     "execution_count": 14,
     "metadata": {},
     "output_type": "execute_result"
    }
   ],
   "source": [
    "re.sub('[aeu]', 'n', re.sub('[abc]', 'o', 'Space'))"
   ]
  },
  {
   "cell_type": "markdown",
   "id": "bdf5802f",
   "metadata": {},
   "source": [
    "# Pluralize nouns with regular expressions"
   ]
  },
  {
   "cell_type": "code",
   "execution_count": 15,
   "id": "39c0878a",
   "metadata": {},
   "outputs": [],
   "source": [
    "def pluralize(noun):          \n",
    "    if re.search('[sxz]$', noun):     \n",
    "        return re.sub('$', 'es', noun)\n",
    "    elif re.search('[^aeioudgkprt]h$', noun):\n",
    "        return re.sub('$', 'es', noun)       \n",
    "    elif re.search('[^aeiou]y$', noun):      \n",
    "        return re.sub('y$', 'ies', noun)     \n",
    "    else:\n",
    "        return noun + 's'"
   ]
  },
  {
   "cell_type": "code",
   "execution_count": 20,
   "id": "9dc16fad",
   "metadata": {},
   "outputs": [
    {
     "data": {
      "text/plain": [
       "<re.Match object; span=(7, 9), match='cy'>"
      ]
     },
     "execution_count": 20,
     "metadata": {},
     "output_type": "execute_result"
    }
   ],
   "source": [
    "re.search('[^aeiou]y$', 'emergency')"
   ]
  },
  {
   "cell_type": "code",
   "execution_count": 25,
   "id": "302c4872",
   "metadata": {},
   "outputs": [
    {
     "data": {
      "text/plain": [
       "'emergencies'"
      ]
     },
     "execution_count": 25,
     "metadata": {},
     "output_type": "execute_result"
    }
   ],
   "source": [
    "re.sub('y$', 'ies', 'emergency')"
   ]
  },
  {
   "cell_type": "code",
   "execution_count": 26,
   "id": "9f47e6e5",
   "metadata": {},
   "outputs": [
    {
     "data": {
      "text/plain": [
       "'semitransparencies'"
      ]
     },
     "execution_count": 26,
     "metadata": {},
     "output_type": "execute_result"
    }
   ],
   "source": [
    "re.sub('y$', 'ies', 'semitransparency')"
   ]
  },
  {
   "cell_type": "markdown",
   "id": "33edd4e9",
   "metadata": {},
   "source": [
    "# Parsing Phone Number with Regular Expressions"
   ]
  },
  {
   "cell_type": "code",
   "execution_count": 27,
   "id": "927ac000",
   "metadata": {},
   "outputs": [
    {
     "data": {
      "text/plain": [
       "<re.Match object; span=(0, 12), match='415-867-5309'>"
      ]
     },
     "execution_count": 27,
     "metadata": {},
     "output_type": "execute_result"
    }
   ],
   "source": [
    "import re\n",
    "pattern = re.compile(r'^(\\d{3})-(\\d{3})-(\\d{4})$')\n",
    "pattern.search('415-867-5309')"
   ]
  },
  {
   "cell_type": "code",
   "execution_count": 28,
   "id": "e0a97ae7",
   "metadata": {},
   "outputs": [
    {
     "data": {
      "text/plain": [
       "('415', '867', '5309')"
      ]
     },
     "execution_count": 28,
     "metadata": {},
     "output_type": "execute_result"
    }
   ],
   "source": [
    "pattern.search('415-867-5309').groups()"
   ]
  },
  {
   "cell_type": "code",
   "execution_count": 32,
   "id": "240f08db",
   "metadata": {},
   "outputs": [
    {
     "data": {
      "text/plain": [
       "('415', '867', '5309', '9875')"
      ]
     },
     "execution_count": 32,
     "metadata": {},
     "output_type": "execute_result"
    }
   ],
   "source": [
    "pattern = re.compile(r'^(\\d{3})-(\\d{3})-(\\d{4})-(\\d+)$')\n",
    "pattern.search('415-867-5309-9875').groups()"
   ]
  },
  {
   "cell_type": "code",
   "execution_count": 33,
   "id": "3844a035",
   "metadata": {},
   "outputs": [
    {
     "data": {
      "text/plain": [
       "('415', '867', '5309', '9999')"
      ]
     },
     "execution_count": 33,
     "metadata": {},
     "output_type": "execute_result"
    }
   ],
   "source": [
    "pattern = re.compile(r'^(\\d{3})\\D+(\\d{3})\\D+(\\d{4})\\D+(\\d+)$')\n",
    "pattern.search('415 867 5309 9999').groups()"
   ]
  },
  {
   "cell_type": "markdown",
   "id": "9347dbf9",
   "metadata": {},
   "source": [
    "# Regular expressions are compiled into pattern objects"
   ]
  },
  {
   "cell_type": "code",
   "execution_count": 35,
   "id": "7a1330ad",
   "metadata": {},
   "outputs": [
    {
     "name": "stdout",
     "output_type": "stream",
     "text": [
      "['H', 'e', 's', 'a', 'i', 'd', 'i', 'n', 's', 'o', 'm', 'e', '_', 'l', 'a', 'n', 'g']\n",
      "['I', 'went', 'to', 'him', 'at', '11', 'A', 'M', 'he', 'said', 'in', 'some_language']\n",
      "[' ', ' ', '*', '*', '*', ' ', ' ', '.']\n"
     ]
    }
   ],
   "source": [
    "import re\n",
    " \n",
    "# \\w is equivalent to [a-zA-Z0-9_].\n",
    "p = re.compile('\\w')\n",
    "print(p.findall(\"He said * in some_lang.\"))\n",
    " \n",
    "# \\w+ matches to group of alphanumeric character.\n",
    "p = re.compile('\\w+')\n",
    "print(p.findall(\"I went to him at 11 A.M., he \\\n",
    "said *** in some_language.\"))\n",
    " \n",
    "# \\W matches to non alphanumeric characters.\n",
    "p = re.compile('\\W')\n",
    "print(p.findall(\"he said *** in some_language.\"))"
   ]
  },
  {
   "cell_type": "code",
   "execution_count": 36,
   "id": "f96a8e53",
   "metadata": {},
   "outputs": [
    {
     "name": "stdout",
     "output_type": "stream",
     "text": [
      "['e', 'a', 'd', 'b', 'e', 'a']\n"
     ]
    }
   ],
   "source": [
    "import re\n",
    "p = re.compile('[a-e]')\n",
    "print(p.findall(\"Aye, said Mr. Gibenson Stark\"))"
   ]
  },
  {
   "cell_type": "code",
   "execution_count": null,
   "id": "a2c932a9",
   "metadata": {},
   "outputs": [],
   "source": []
  }
 ],
 "metadata": {
  "kernelspec": {
   "display_name": "Python 3 (ipykernel)",
   "language": "python",
   "name": "python3"
  },
  "language_info": {
   "codemirror_mode": {
    "name": "ipython",
    "version": 3
   },
   "file_extension": ".py",
   "mimetype": "text/x-python",
   "name": "python",
   "nbconvert_exporter": "python",
   "pygments_lexer": "ipython3",
   "version": "3.9.12"
  }
 },
 "nbformat": 4,
 "nbformat_minor": 5
}
